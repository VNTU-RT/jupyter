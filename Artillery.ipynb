{
 "cells": [
  {
   "cell_type": "markdown",
   "metadata": {},
   "source": [
    "# Артилерийские расчеты"
   ]
  },
  {
   "cell_type": "markdown",
   "metadata": {},
   "source": [
    "** Допущения **\n",
    "1. Порох передает всю энергию снаряду (не трения, потерь давления и т.п.). Т.е КПД = 100 %\n",
    "2. Система является замкнутой\n",
    "\n",
    "**Исходные данные**\n",
    "\n",
    "m0 - масса пороха, кг\n",
    "\n",
    "p0 - удельное давление пороховых газов, Па/кг \n",
    "\n",
    "s1 - площадь снаряда на которую действуют пороховые газы,  $м^2$\n",
    "\n",
    "m1 - масса снаряда, кг\n",
    "\n",
    "l2 - длинна ствола, м\n",
    "\n",
    "alpha - наклон пушки к горизонту, градусы\n",
    "\n",
    "k - коефициент сопротивления воздуха"
   ]
  },
  {
   "cell_type": "code",
   "execution_count": 1,
   "metadata": {
    "collapsed": true
   },
   "outputs": [],
   "source": [
    "import math\n",
    "from math import sin, cos, radians\n",
    "from IPython.display import Markdown, HTML"
   ]
  },
  {
   "cell_type": "code",
   "execution_count": 2,
   "metadata": {
    "collapsed": false,
    "scrolled": false
   },
   "outputs": [
    {
     "data": {
      "text/html": [
       "<script>\n",
       "code_show=true; \n",
       "function code_toggle() {\n",
       " if (code_show){\n",
       " $('div.input').hide();\n",
       " } else {\n",
       " $('div.input').show();\n",
       " }\n",
       " code_show = !code_show\n",
       "} \n",
       "$( document ).ready(code_toggle);\n",
       "</script>\n",
       "The raw code for this IPython notebook is by default hidden for easier reading.\n",
       "To toggle on/off the raw code, click <a href=\"javascript:code_toggle()\">here</a>."
      ],
      "text/plain": [
       "<IPython.core.display.HTML object>"
      ]
     },
     "execution_count": 2,
     "metadata": {},
     "output_type": "execute_result"
    }
   ],
   "source": [
    "HTML('''<script>\n",
    "code_show=true; \n",
    "function code_toggle() {\n",
    " if (code_show){\n",
    " $('div.input').hide();\n",
    " } else {\n",
    " $('div.input').show();\n",
    " }\n",
    " code_show = !code_show\n",
    "} \n",
    "$( document ).ready(code_toggle);\n",
    "</script>\n",
    "The raw code for this IPython notebook is by default hidden for easier reading.\n",
    "To toggle on/off the raw code, click <a href=\"javascript:code_toggle()\">here</a>.''')"
   ]
  },
  {
   "cell_type": "markdown",
   "metadata": {},
   "source": [
    "## Дальность выстрела снарядом из пушки"
   ]
  },
  {
   "cell_type": "code",
   "execution_count": 3,
   "metadata": {
    "collapsed": true
   },
   "outputs": [],
   "source": [
    "m0 = 1       # порох\n",
    "p0 = 1200e5  \n",
    "\n",
    "s1 = 45/1e4 # площадь снаряда\n",
    "m1 = 10     # масса снаряда\n",
    "\n",
    "l2 = 1.8    # длинна ствола\n",
    "\n",
    "alpha = 45  # угол орудия\n",
    "\n",
    "g = 9.8\n",
    "\n",
    "k = 0.2 # сопротивление воздуха\n",
    "\n",
    "dt = 10 # шаг расчета в мс"
   ]
  },
  {
   "cell_type": "code",
   "execution_count": 4,
   "metadata": {
    "collapsed": false
   },
   "outputs": [],
   "source": [
    "v = (2* p0 * m0 * s1 * l2 / m1)**0.5"
   ]
  },
  {
   "cell_type": "code",
   "execution_count": 5,
   "metadata": {
    "collapsed": false
   },
   "outputs": [],
   "source": [
    "L = v**2 * sin(2 * radians(alpha)) / g"
   ]
  },
  {
   "cell_type": "code",
   "execution_count": 6,
   "metadata": {
    "collapsed": false
   },
   "outputs": [],
   "source": [
    "V = {0 : (v * cos(radians(alpha)), v * sin(radians(alpha)) ) }\n",
    "X = {0 : (0, 0) }\n",
    "\n",
    "t = dt\n",
    "\n",
    "while True:    \n",
    "    vx = V[t-dt][0] - k / m1 * V[t-dt][0] * dt/1e3\n",
    "    vy = V[t-dt][1] - (g + k / m1 * V[t-dt][1]) * dt/1e3\n",
    "    \n",
    "    x = X[t-dt][0] + V[t-dt][0] * dt/1e3\n",
    "    y = X[t-dt][1] + V[t-dt][1] * dt/1e3\n",
    "    \n",
    "    if (y <= 0):\n",
    "        break\n",
    "        \n",
    "    V[t] = (vx, vy)\n",
    "    X[t] = (x, y)\n",
    "    t += dt"
   ]
  },
  {
   "cell_type": "code",
   "execution_count": 7,
   "metadata": {
    "collapsed": false
   },
   "outputs": [
    {
     "data": {
      "text/markdown": [
       "**Скорость снаряда** на вылете из ствола длинной 1.8 м: 441 м/c \n",
       "\r",
       "**Дальность полета без атмосферы** снаряда массой 10 кг при массе пороха 1 кг: 19837 м \n",
       "\r",
       "**Дальность полета в атомсфере** снаряда массой 10 кг при массе пороха 1 кг: 10303 м \r\n"
      ],
      "text/plain": [
       "<IPython.core.display.Markdown object>"
      ]
     },
     "execution_count": 7,
     "metadata": {},
     "output_type": "execute_result"
    }
   ],
   "source": [
    "Markdown(\"**Скорость снаряда** на вылете из ствола длинной {} м: {:.0f} м/c \\n\\r\".format(l2, v)     +\n",
    "\"**Дальность полета без атмосферы** снаряда массой {} кг при массе пороха {} кг: {:.0f} м \\n\\r\".format(m1, m0, L) +\n",
    "\"**Дальность полета в атомсфере** снаряда массой {} кг при массе пороха {} кг: {:.0f} м \\r\\n\".format(m1, m0, X[t-dt][0])\n",
    "        )"
   ]
  },
  {
   "cell_type": "markdown",
   "metadata": {},
   "source": [
    "## Дальность выстрела снарядом \"из кучи\"\n",
    "\n",
    "**Допущения**\n",
    "\n",
    "Все так же как в пушке только \"ствол\" короткий, а заряд пороха - большой."
   ]
  },
  {
   "cell_type": "code",
   "execution_count": 8,
   "metadata": {
    "collapsed": true
   },
   "outputs": [],
   "source": [
    "m0 = 50       # порох\n",
    "p0 = 1200e5  \n",
    "\n",
    "s1 = 45/1e4 # площадь снаряда\n",
    "m1 = 10     # масса снаряда\n",
    "\n",
    "l2 = 0.001    # длинна ствола\n",
    "\n",
    "alpha = 45  # угол орудия\n",
    "\n",
    "g = 9.8\n",
    "\n",
    "k = 0.2 # сопротивление воздуха\n",
    "\n",
    "dt = 10 # шаг расчета в мс"
   ]
  },
  {
   "cell_type": "code",
   "execution_count": 9,
   "metadata": {
    "collapsed": false
   },
   "outputs": [],
   "source": [
    "v = (2* p0 * m0 * s1 * l2 / m1)**0.5"
   ]
  },
  {
   "cell_type": "code",
   "execution_count": 10,
   "metadata": {
    "collapsed": false
   },
   "outputs": [],
   "source": [
    "L = v**2 * sin(2 * radians(alpha)) / g"
   ]
  },
  {
   "cell_type": "code",
   "execution_count": 11,
   "metadata": {
    "collapsed": false
   },
   "outputs": [],
   "source": [
    "V = {0 : (v * cos(radians(alpha)), v * sin(radians(alpha)) ) }\n",
    "X = {0 : (0, 0) }\n",
    "\n",
    "t = dt\n",
    "\n",
    "while True:    \n",
    "    vx = V[t-dt][0] - k / m1 * V[t-dt][0] * dt/1e3\n",
    "    vy = V[t-dt][1] - (g + k / m1 * V[t-dt][1]) * dt/1e3\n",
    "    \n",
    "    x = X[t-dt][0] + V[t-dt][0] * dt/1e3\n",
    "    y = X[t-dt][1] + V[t-dt][1] * dt/1e3\n",
    "    \n",
    "    if (y <= 0):\n",
    "        break\n",
    "        \n",
    "    V[t] = (vx, vy)\n",
    "    X[t] = (x, y)\n",
    "    t += dt"
   ]
  },
  {
   "cell_type": "code",
   "execution_count": 12,
   "metadata": {
    "collapsed": false
   },
   "outputs": [
    {
     "data": {
      "text/markdown": [
       "**Скорость снаряда** на вылете из ствола длинной 0.001 м: 73 м/c \n",
       "\r",
       "**Дальность полета без атмосферы** снаряда массой 10 кг при массе пороха 50 кг: 551 м \n",
       "\r",
       "**Дальность полета в атомсфере** снаряда массой 10 кг при массе пороха 50 кг: 482 м \r\n"
      ],
      "text/plain": [
       "<IPython.core.display.Markdown object>"
      ]
     },
     "execution_count": 12,
     "metadata": {},
     "output_type": "execute_result"
    }
   ],
   "source": [
    "Markdown(\"**Скорость снаряда** на вылете из ствола длинной {} м: {:.0f} м/c \\n\\r\".format(l2, v)     +\n",
    "\"**Дальность полета без атмосферы** снаряда массой {} кг при массе пороха {} кг: {:.0f} м \\n\\r\".format(m1, m0, L) +\n",
    "\"**Дальность полета в атомсфере** снаряда массой {} кг при массе пороха {} кг: {:.0f} м \\r\\n\".format(m1, m0, X[t-dt][0])\n",
    "        )"
   ]
  }
 ],
 "metadata": {
  "kernelspec": {
   "display_name": "Python 3",
   "language": "python",
   "name": "python3"
  },
  "language_info": {
   "codemirror_mode": {
    "name": "ipython",
    "version": 3
   },
   "file_extension": ".py",
   "mimetype": "text/x-python",
   "name": "python",
   "nbconvert_exporter": "python",
   "pygments_lexer": "ipython3",
   "version": "3.5.3"
  }
 },
 "nbformat": 4,
 "nbformat_minor": 0
}
